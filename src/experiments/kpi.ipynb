{
 "cells": [
  {
   "cell_type": "markdown",
   "metadata": {},
   "source": [
    "# KPI's\n",
    "\n",
    "This document will try to define the KPI's that will be used to measure different aspects of AoE4 gameplay. These KPI's will be seperated into different files in order to maintain readability and prevent large files. \n",
    "\n",
    "Each KPI will be defined in the following way:\n",
    "```python\n",
    "def kpi_name() -> float:\n",
    "    \"\"\"\n",
    "    Description of the KPI\n",
    "    \"\"\"\n",
    "    # Code to calculate the KPI\n",
    "    return kpi_value\n",
    "```\n",
    "\n",
    "## KPI's and Categories\n",
    "\n",
    "The table bellow contains a list of all KPI's and a link to the file where they are researched and defined.\n",
    "\n",
    "| KPI / Categorie | Description | File |\n",
    "| --- | --- | --- |\n",
    "| APM | Actions per minute | [actions-per-minute.ipynb](./kpi/actions-per-minute.ipynb) |\n",
    "| Economy | Resource gathering and usage over time | [economy.ipynb](./kpi/economy.ipynb) |\n",
    "| Military | Military gathering and usage over time | [military.ipynb](./kpi/military.ipynb) |\n",
    "| Map control | Map control over time | [map-control.ipynb](./kpi/map-control.ipynb) |"
   ]
  }
 ],
 "metadata": {
  "language_info": {
   "name": "python"
  }
 },
 "nbformat": 4,
 "nbformat_minor": 2
}

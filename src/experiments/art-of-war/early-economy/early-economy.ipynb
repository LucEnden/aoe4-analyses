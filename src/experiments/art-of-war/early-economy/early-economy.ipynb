{
 "cells": [
  {
   "cell_type": "markdown",
   "metadata": {},
   "source": [
    "# Art of War - Early Economy\n",
    "\n",
    "In this notebook we will try to solve the early economy challange in the Art of War game. We will test different strategies and try to find the one that solves the challange as fast as possible using the least amount of actions and resources."
   ]
  },
  {
   "cell_type": "markdown",
   "metadata": {},
   "source": [
    "## Challange Goals\n",
    "The challange is comrpised of 3 goals:\n",
    "- Get 21 villagers\n",
    "- Get 400 food\n",
    "- Get 200 gold\n",
    "\n",
    "There is also a time limit for completing the challange:\n",
    "- Completing the challange in 5m 10s or less will give you a gold medal\n",
    "- Completing the challange in 6m 0s will give you a silver medal\n",
    "- Completing the challange in 7m 30s will give you a bronze medal\n",
    "\n",
    "> ![Screenshot of the goals of the challange](./early-economy-goals.png)\n",
    "> \n",
    "> *Figure 1: The goals of the challange*"
   ]
  },
  {
   "cell_type": "markdown",
   "metadata": {},
   "source": [
    "## Start of the challange\n",
    "\n",
    "The challange forces you into using the english civilization on a set map with set spawns of resources. The resources are as follows:\n",
    "- 200 food\n",
    "- 200 wood\n",
    "- 100 gold\n",
    "- 1 town center\n",
    "- 6 villagers \n",
    "- 1 scout\n",
    "\n",
    "> ![Screenshot of the units you start the challange with](./early-economy-start-units.png)\n",
    ">\n",
    "> *Figure 2: The units you start the challange with*\n",
    ">\n",
    "> ![Screenshot of the resources you start the challange with](./early-economy-start-resource-pane.png)\n",
    ">\n",
    "> *Figure 3: The resources you start the challange with*\n",
    "\n",
    "There are also a few resources nearby:\n",
    "- 1 sheep next to the town center\n",
    "- 1 nearby gold deposit.\n",
    "    - Technicly more but they are too far away to be worth it\n",
    "- a few nearby trees\n",
    "- a few nearby deers\n",
    "- a few nearby berry bushes\n",
    "\n",
    "> ![Screenshot of the nearby resources](early-economy-nearby-resources.png)\n",
    ">\n",
    "> *Figure 4: The nearby resources*"
   ]
  },
  {
   "cell_type": "markdown",
   "metadata": {},
   "source": [
    "## Refrences\n",
    "\n",
    "> ![Screenshot of the refrence tile 0/0](./early-economy-refrence-tile.png)\n",
    ">\n",
    "> *Figure 5: The refrence tile 0/0*\n",
    "\n",
    "> ![Screenshot of the villager refrences](./early-economy-refrence-villager.png)\n",
    ">\n",
    "> *Figure 6: The villager refrences*"
   ]
  },
  {
   "cell_type": "markdown",
   "metadata": {},
   "source": [
    "# Data collection\n",
    "\n",
    "Most of the data used in this experiment comes from the [aoe4world/data repository](https://github.com/aoe4world/data)."
   ]
  },
  {
   "cell_type": "code",
   "execution_count": 70,
   "metadata": {},
   "outputs": [],
   "source": [
    "from urllib.request import urlopen\n",
    "import json\n"
   ]
  },
  {
   "cell_type": "code",
   "execution_count": 16,
   "metadata": {},
   "outputs": [],
   "source": [
    "villager_data_url = 'https://raw.githubusercontent.com/aoe4world/data/main/units/english/villager-1.json'\n",
    "scout_data_url = 'https://raw.githubusercontent.com/aoe4world/data/main/units/english/scout-1.json'\n",
    "\n",
    "with urlopen(villager_data_url) as response:\n",
    "    body = response.read()\n",
    "    villager_data = json.loads(body)\n",
    "\n",
    "with urlopen(scout_data_url) as response:\n",
    "    body = response.read()\n",
    "    scout_data = json.loads(body)"
   ]
  },
  {
   "cell_type": "code",
   "execution_count": 18,
   "metadata": {},
   "outputs": [
    {
     "name": "stdout",
     "output_type": "stream",
     "text": [
      "<class 'dict'>\n",
      "<class 'dict'>\n"
     ]
    }
   ],
   "source": [
    "print(type(villager_data))  # <class 'dict'>\n",
    "print(type(scout_data))     # <class 'dict'>"
   ]
  },
  {
   "cell_type": "code",
   "execution_count": 31,
   "metadata": {},
   "outputs": [
    {
     "data": {
      "text/plain": [
       "True"
      ]
     },
     "execution_count": 31,
     "metadata": {},
     "output_type": "execute_result"
    }
   ],
   "source": [
    "# Check if all keys are the same\n",
    "all([ vk == sk for vk, sk in zip(villager_data, scout_data) ])  # True"
   ]
  },
  {
   "cell_type": "code",
   "execution_count": 32,
   "metadata": {},
   "outputs": [
    {
     "name": "stdout",
     "output_type": "stream",
     "text": [
      "id\n",
      "baseId\n",
      "type\n",
      "name\n",
      "pbgid\n",
      "attribName\n",
      "age\n",
      "civs\n",
      "description\n",
      "classes\n",
      "displayClasses\n",
      "unique\n",
      "costs\n",
      "producedBy\n",
      "icon\n",
      "hitpoints\n",
      "weapons\n",
      "armor\n",
      "sight\n",
      "movement\n"
     ]
    }
   ],
   "source": [
    "for k in villager_data.keys():\n",
    "    print(k)"
   ]
  },
  {
   "cell_type": "markdown",
   "metadata": {},
   "source": [
    "### Distance to food sources"
   ]
  },
  {
   "cell_type": "code",
   "execution_count": null,
   "metadata": {},
   "outputs": [],
   "source": [
    "food_tiles = np.array([\n",
    "    (-1, -2),       # Sheep\n",
    "    (10, 0),        # Berries\n",
    "    "
   ]
  },
  {
   "cell_type": "markdown",
   "metadata": {},
   "source": [
    "We measured the distance between the villagers closest to the deers and the deer themselve to be between 11 and 14, depending on where the deers wonder off to."
   ]
  },
  {
   "cell_type": "code",
   "execution_count": 74,
   "metadata": {},
   "outputs": [
    {
     "name": "stdout",
     "output_type": "stream",
     "text": [
      "Mean tiles between deer and villagers: 12.5 (min: 11, max: 14)\n"
     ]
    }
   ],
   "source": [
    "# tile distance between villager and deer\n",
    "vtd = [ 11, 12, 13, 14, ]\n",
    "print(f\"Mean tiles between deer and villagers: {np.mean(vtd)} (min: {np.min(vtd)}, max: {np.max(vtd)})\")"
   ]
  },
  {
   "cell_type": "code",
   "execution_count": 76,
   "metadata": {},
   "outputs": [],
   "source": [
    "villager_bow = villager_data[\"weapons\"][0]\n",
    "# villager_bow"
   ]
  },
  {
   "cell_type": "code",
   "execution_count": 69,
   "metadata": {},
   "outputs": [
    {
     "name": "stdout",
     "output_type": "stream",
     "text": [
      "True\n"
     ]
    }
   ],
   "source": [
    "# Verify that the sum of all durations is equal to the speed\n",
    "# This would mean we can rellay on the speed value\n",
    "print(sum(villager_bow[\"durations\"].values()) == villager_bow[\"speed\"])  # True"
   ]
  }
 ],
 "metadata": {
  "kernelspec": {
   "display_name": "aoe4",
   "language": "python",
   "name": "python3"
  },
  "language_info": {
   "codemirror_mode": {
    "name": "ipython",
    "version": 3
   },
   "file_extension": ".py",
   "mimetype": "text/x-python",
   "name": "python",
   "nbconvert_exporter": "python",
   "pygments_lexer": "ipython3",
   "version": "3.12.0"
  }
 },
 "nbformat": 4,
 "nbformat_minor": 2
}

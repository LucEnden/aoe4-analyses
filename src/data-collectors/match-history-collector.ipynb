{
 "cells": [
  {
   "cell_type": "code",
   "execution_count": 29,
   "metadata": {},
   "outputs": [
    {
     "name": "stdout",
     "output_type": "stream",
     "text": [
      "Python version:  sys.version_info(major=3, minor=12, micro=0, releaselevel='final', serial=0)\n"
     ]
    }
   ],
   "source": [
    "import os\n",
    "from sys import version_info\n",
    "\n",
    "\n",
    "print(\"Python version: \", version_info)"
   ]
  },
  {
   "cell_type": "code",
   "execution_count": 44,
   "metadata": {},
   "outputs": [
    {
     "name": "stdout",
     "output_type": "stream",
     "text": [
      "Please enter the path to the match history file: \n",
      "This defaults to these paths depending on your platform: \n",
      "Windows: %userprofile%\\Documents\\My Games\\Age of Empires IV\\playback\n"
     ]
    }
   ],
   "source": [
    "print(\"Please enter the path to the match history file: \")\n",
    "print(\"This defaults to these paths depending on your platform: \")\n",
    "print(r\"Windows: %userprofile%\\Documents\\My Games\\Age of Empires IV\\playback\")\n",
    "playback_path: str = input()"
   ]
  },
  {
   "cell_type": "code",
   "execution_count": 45,
   "metadata": {},
   "outputs": [
    {
     "name": "stdout",
     "output_type": "stream",
     "text": [
      "temp.rec\n",
      "temp_campaign.rec\n"
     ]
    }
   ],
   "source": [
    "for file in os.listdir(playback_path):\n",
    "    print(file)\n",
    "    with open(os.path.join(playback_path, file), \"rb\") as f:\n",
    "        data = f.read()\n",
    "\n",
    "        # TODO: Parse replay data"
   ]
  }
 ],
 "metadata": {
  "kernelspec": {
   "display_name": "aoe4",
   "language": "python",
   "name": "python3"
  },
  "language_info": {
   "codemirror_mode": {
    "name": "ipython",
    "version": 3
   },
   "file_extension": ".py",
   "mimetype": "text/x-python",
   "name": "python",
   "nbconvert_exporter": "python",
   "pygments_lexer": "ipython3",
   "version": "3.12.0"
  }
 },
 "nbformat": 4,
 "nbformat_minor": 2
}
